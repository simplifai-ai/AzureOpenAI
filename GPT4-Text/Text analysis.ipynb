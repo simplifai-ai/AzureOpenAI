{
 "cells": [
  {
   "cell_type": "markdown",
   "id": "20e46c2f",
   "metadata": {},
   "source": [
    "# PII analysis with Azure Open AI"
   ]
  },
  {
   "cell_type": "code",
   "execution_count": 23,
   "id": "a9ed10c4",
   "metadata": {},
   "outputs": [],
   "source": [
    "import datetime\n",
    "import openai\n",
    "import os\n",
    "import sys\n",
    "\n",
    "from dotenv import load_dotenv"
   ]
  },
  {
   "cell_type": "code",
   "execution_count": 24,
   "id": "bacb98f7",
   "metadata": {},
   "outputs": [
    {
     "name": "stdout",
     "output_type": "stream",
     "text": [
      "Open AI version: 0.28.0\n"
     ]
    }
   ],
   "source": [
    "load_dotenv(\"azure.env\")\n",
    "\n",
    "# Azure Open AI\n",
    "openai.api_type: str = \"azure\"\n",
    "openai.api_key = os.getenv(\"OPENAI_API_KEY\")\n",
    "openai.api_base = os.getenv(\"OPENAI_API_BASE\")\n",
    "openai.api_version = os.getenv(\"OPENAI_API_VERSION\")\n",
    "\n",
    "print(\"Open AI version:\", openai.__version__)"
   ]
  },
  {
   "cell_type": "code",
   "execution_count": 25,
   "id": "6b463bec",
   "metadata": {},
   "outputs": [
    {
     "name": "stdout",
     "output_type": "stream",
     "text": [
      "Today is: 27-Mar-2024 23:20:57\n"
     ]
    }
   ],
   "source": [
    "print(\"Today is:\", datetime.datetime.today().strftime(\"%d-%b-%Y %H:%M:%S\"))"
   ]
  },
  {
   "cell_type": "code",
   "execution_count": 26,
   "id": "3dd263bd",
   "metadata": {},
   "outputs": [
    {
     "data": {
      "text/plain": [
       "'3.10.13 (main, Sep 11 2023, 08:39:02) [Clang 14.0.6 ]'"
      ]
     },
     "execution_count": 26,
     "metadata": {},
     "output_type": "execute_result"
    }
   ],
   "source": [
    "sys.version"
   ]
  },
  {
   "cell_type": "markdown",
   "id": "bf083314",
   "metadata": {},
   "source": [
    "## Function"
   ]
  },
  {
   "cell_type": "code",
   "execution_count": 27,
   "id": "1a4b5443",
   "metadata": {},
   "outputs": [],
   "source": [
    "model = \"_testing_text_davinci\""
   ]
  },
  {
   "cell_type": "code",
   "execution_count": 28,
   "id": "c2dd2175",
   "metadata": {},
   "outputs": [],
   "source": [
    "def azure_openai(prompt, temperature=0.8):\n",
    "    \"\"\"\n",
    "    Get Azure Open AI results\n",
    "    \"\"\"\n",
    "    prompt = prompt + \"\\n\" + text\n",
    "\n",
    "    results = openai.Completion.create(\n",
    "        engine=model,\n",
    "        prompt=prompt,\n",
    "        temperature=temperature,\n",
    "        max_tokens=800,\n",
    "    )\n",
    "\n",
    "    answer = results[\"choices\"][0][\"text\"].strip(\"\\n\")\n",
    "\n",
    "    return answer"
   ]
  },
  {
   "cell_type": "markdown",
   "id": "6ba8838d",
   "metadata": {},
   "source": [
    "## PII analysis"
   ]
  },
  {
   "cell_type": "code",
   "execution_count": 29,
   "id": "5d782d44",
   "metadata": {},
   "outputs": [
    {
     "name": "stdout",
     "output_type": "stream",
     "text": [
      "\n",
      "Parker Doe has repaid all of their loans as of 2020-04-25.\n",
      "Their SSN is 859-98-0987. To contact them, use their phone number\n",
      "555-555-5555. They are originally from Brazil and have Brazilian CPF number 998.214.865-68\n",
      "\n"
     ]
    }
   ],
   "source": [
    "text = \"\"\"\n",
    "Parker Doe has repaid all of their loans as of 2020-04-25.\n",
    "Their SSN is 859-98-0987. To contact them, use their phone number\n",
    "555-555-5555. They are originally from Brazil and have Brazilian CPF number 998.214.865-68\n",
    "\"\"\"\n",
    "\n",
    "print(text)"
   ]
  },
  {
   "cell_type": "code",
   "execution_count": 30,
   "id": "b2a50475",
   "metadata": {},
   "outputs": [
    {
     "name": "stdout",
     "output_type": "stream",
     "text": [
      "Personally identifiable information in this text:\n",
      "- Parker Doe\n",
      "- Social Security Number: 859-98-0987\n",
      "- Phone Number: 555-555-5555\n",
      "- Country of Origin: Brazil\n",
      "- CPF Number: 998.214.865-68\n"
     ]
    }
   ],
   "source": [
    "answer = azure_openai(\"What are the Personally identifiable information in this text?\")\n",
    "print(answer)"
   ]
  },
  {
   "cell_type": "code",
   "execution_count": 19,
   "id": "1f0cdfe0",
   "metadata": {},
   "outputs": [
    {
     "name": "stdout",
     "output_type": "stream",
     "text": [
      "{\n",
      "    \"Personally Identifiable Information\": {\n",
      "        \"Name\": \"Parker Doe\",\n",
      "        \"Social Security Number\": \"859-98-0987\",\n",
      "        \"Phone Number\": \"555-555-5555\",\n",
      "        \"Country of Origin\": \"Brazil\",\n",
      "        \"CPF Number\": \"998.214.865-68\"\n",
      "    }\n",
      "}\n"
     ]
    }
   ],
   "source": [
    "answer = azure_openai(\n",
    "    \"What are the Personally identifiable information in this text? Save in a json file\"\n",
    ")\n",
    "json = answer\n",
    "print(json)"
   ]
  },
  {
   "cell_type": "code",
   "execution_count": null,
   "id": "a8c97e04",
   "metadata": {},
   "outputs": [],
   "source": []
  },
  {
   "cell_type": "code",
   "execution_count": 20,
   "id": "6b1ec71b",
   "metadata": {},
   "outputs": [
    {
     "name": "stdout",
     "output_type": "stream",
     "text": [
      "\n",
      "RECORD #333582770390100 | MH | 85986313 | | 054351 | 2/14/2001 12:00:00 AM | CORONARY ARTERY DISEASE | Signed | DIS | Admission Date: 5/22/2001 eport Status: Signed Discharge Date: 4/24/2001 ADMISSION DIAGNOSIS: CORONARY ARTERY DISEASE. HISTORY OF PRESENT ILLNESS: The patient is a 54-year-old gentleman with a history of progressive angina over the past several months. The patient had a cardiac catheterization in July of this year revealing total occlusion of the RCA and 50% left main disease , with a strong family history of coronary artery disease with a brother dying at the age of 52 from a myocardial infarction and another brother who is status post coronary artery bypass grafting. The patient had a stress echocardiogram done on July , 2001 , which showed no wall motion abnormalities ,but this was a difficult study due to body habitus. The patient went for six minutes with minimal ST depressions in the anterior lateral leads , thought due to fatigue and wrist pain , his anginal equivalent. Due to the patient's increased symptoms and family history and history left main disease with total occasional of his RCA was referred for revascularization with open heart surgery.\"\n",
      "\n"
     ]
    }
   ],
   "source": [
    "text = \"\"\"\n",
    "RECORD #333582770390100 | MH | 85986313 | | 054351 | 2/14/2001 12:00:00 AM | \\\n",
    "CORONARY ARTERY DISEASE | Signed | DIS | Admission Date: 5/22/2001 \\\n",
    "eport Status: Signed Discharge Date: 4/24/2001 ADMISSION DIAGNOSIS: \\\n",
    "CORONARY ARTERY DISEASE. HISTORY OF PRESENT ILLNESS: \\\n",
    "The patient is a 54-year-old gentleman with a history of progressive angina over the past several months. \\\n",
    "The patient had a cardiac catheterization in July of this year revealing total occlusion of the RCA and \\\n",
    "50% left main disease , with a strong family history of coronary artery disease with a brother dying at \\\n",
    "the age of 52 from a myocardial infarction and another brother who is status post coronary artery bypass grafting. \\\n",
    "The patient had a stress echocardiogram done on July , 2001 , which showed no wall motion abnormalities ,\\\n",
    "but this was a difficult study due to body habitus. The patient went for six minutes with minimal ST depressions \\\n",
    "in the anterior lateral leads , thought due to fatigue and wrist pain , his anginal equivalent. Due to the patient's \\\n",
    "increased symptoms and family history and history left main disease with total occasional of his RCA was referred \\\n",
    "for revascularization with open heart surgery.\"\n",
    "\"\"\"\n",
    "print(text)"
   ]
  },
  {
   "cell_type": "code",
   "execution_count": 21,
   "id": "bd63c6b6",
   "metadata": {},
   "outputs": [
    {
     "name": "stdout",
     "output_type": "stream",
     "text": [
      "{\n",
      "\"Personally Identifiable Information\": [\n",
      "\"Name: MH\",\n",
      "\"Age: 54\",\n",
      "\"Date of Birth: 2/14/2001\",\n",
      "\"Admission Date: 5/22/2001\",\n",
      "\"Discharge Date: 4/24/2001\",\n",
      "\"Social Security Number: 85986313\",\n",
      "\"Family History: Brother died at age 52 from myocardial infarction, and another brother who is status post coronary artery bypass grafting\"\n",
      "]\n",
      "}\n"
     ]
    }
   ],
   "source": [
    "answer = azure_openai(\n",
    "    \"What are the Personally identifiable information in this text? Extract this into a json file\"\n",
    ")\n",
    "print(answer)"
   ]
  },
  {
   "cell_type": "code",
   "execution_count": 22,
   "id": "a8cb2952",
   "metadata": {},
   "outputs": [
    {
     "name": "stdout",
     "output_type": "stream",
     "text": [
      "- Personally identifiable information: 85986313, 54 years old, July 2001, July 2001 stress echocardiogram, July 2001 cardiac catheterization, brother died at 52, brother with coronary artery bypass grafting\n",
      "\n",
      "- Main events with date: Admission Date: 5/22/2001, Discharge Date: 4/24/2001, Stress Echocardiogram: July 2001, Cardiac Catheterization: July 2001\n"
     ]
    }
   ],
   "source": [
    "answer = azure_openai(\n",
    "    \"What are the Personally identifiable information in this text? Extract only the main events with their date\"\n",
    ")\n",
    "print(answer)"
   ]
  },
  {
   "cell_type": "code",
   "execution_count": 32,
   "id": "9f23f33b",
   "metadata": {},
   "outputs": [
    {
     "name": "stdout",
     "output_type": "stream",
     "text": [
      "Anonymized text: \n",
      "\n",
      "A customer has repaid all of their loans as of 2020-04-25. To contact them, use their phone number 555-555-5555. They are originally from Brazil and have a Brazilian CPF number. \n",
      "\n",
      "Personally Identifiable Information: \n",
      "1. Full Name: Parker Doe \n",
      "2. Social Security Number: 859-98-0987\n",
      "3. Phone Number: 555-555-5555\n",
      "4. Country of Origin: Brazil\n",
      "5. CPF Number: 998.214.865-68\n"
     ]
    }
   ],
   "source": [
    "answer = azure_openai(\n",
    "    \"What are the Personally identifiable information in this text? Annomize the text and name/date in the text\"\n",
    ")\n",
    "print(answer)"
   ]
  },
  {
   "cell_type": "code",
   "execution_count": null,
   "id": "62d5c4cc",
   "metadata": {},
   "outputs": [],
   "source": []
  },
  {
   "cell_type": "code",
   "execution_count": null,
   "id": "fcafeac9",
   "metadata": {},
   "outputs": [],
   "source": []
  },
  {
   "cell_type": "code",
   "execution_count": null,
   "id": "9ecd7bff",
   "metadata": {},
   "outputs": [],
   "source": []
  },
  {
   "cell_type": "code",
   "execution_count": null,
   "id": "b67e61d1",
   "metadata": {},
   "outputs": [],
   "source": []
  },
  {
   "cell_type": "code",
   "execution_count": null,
   "id": "416aef95",
   "metadata": {},
   "outputs": [],
   "source": []
  },
  {
   "cell_type": "code",
   "execution_count": null,
   "id": "3c618168",
   "metadata": {},
   "outputs": [],
   "source": []
  },
  {
   "cell_type": "code",
   "execution_count": null,
   "id": "6e5284ed",
   "metadata": {},
   "outputs": [],
   "source": []
  }
 ],
 "metadata": {
  "kernelspec": {
   "display_name": "py10",
   "language": "python",
   "name": "python3"
  },
  "language_info": {
   "codemirror_mode": {
    "name": "ipython",
    "version": 3
   },
   "file_extension": ".py",
   "mimetype": "text/x-python",
   "name": "python",
   "nbconvert_exporter": "python",
   "pygments_lexer": "ipython3",
   "version": "3.10.13"
  }
 },
 "nbformat": 4,
 "nbformat_minor": 5
}
